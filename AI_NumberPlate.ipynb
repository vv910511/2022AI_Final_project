{
  "cells": [
    {
      "cell_type": "markdown",
      "metadata": {
        "id": "view-in-github",
        "colab_type": "text"
      },
      "source": [
        "<a href=\"https://colab.research.google.com/github/vv910511/2022AI_Final_project/blob/main/AI_NumberPlate.ipynb\" target=\"_parent\"><img src=\"https://colab.research.google.com/assets/colab-badge.svg\" alt=\"Open In Colab\"/></a>"
      ]
    },
    {
      "cell_type": "markdown",
      "source": [
        "#掛載Google雲端硬碟"
      ],
      "metadata": {
        "id": "lanjlYPdwB92"
      }
    },
    {
      "cell_type": "code",
      "execution_count": null,
      "metadata": {
        "id": "CVQOilZzbmrN"
      },
      "outputs": [],
      "source": [
        "from google.colab import drive\n",
        "drive.mount('/content/drive')\n",
        "\n",
        "!pip install -r drive/MyDrive/yolov7/requirements.txt\n",
        "!pip install -r drive/MyDrive/yolov7/requirements_gpu.txt"
      ]
    },
    {
      "cell_type": "markdown",
      "source": [
        "# 訓練"
      ],
      "metadata": {
        "id": "QYf6qukEwPlF"
      }
    },
    {
      "cell_type": "code",
      "execution_count": null,
      "metadata": {
        "id": "T5rHH_bbctv4"
      },
      "outputs": [],
      "source": [
        "%cd drive/MyDrive/yolov7/\n",
        "!python train.py --workers 1 --device 0 --batch-size 16 --epochs 100 --img 640 640 --hyp data/hyp.scratch.custom.yaml --name yolov7-custom --weights yolov7.pt"
      ]
    },
    {
      "cell_type": "markdown",
      "source": [
        "# 分析"
      ],
      "metadata": {
        "id": "WxOvGr6hwzNK"
      }
    },
    {
      "cell_type": "markdown",
      "source": [
        "圖片分析"
      ],
      "metadata": {
        "id": "dPhB45Tdw_DM"
      }
    },
    {
      "cell_type": "code",
      "execution_count": null,
      "metadata": {
        "id": "gY_NKkN7tIrz"
      },
      "outputs": [],
      "source": [
        "!python detect.py --weights best.pt --conf 0.5 --img-size 640 --source 16.jpg --view-img --no-trace"
      ]
    },
    {
      "cell_type": "markdown",
      "source": [
        "影片分析"
      ],
      "metadata": {
        "id": "WsSAbYA7xBjl"
      }
    },
    {
      "cell_type": "code",
      "source": [
        "!python detect.py --weights best.pt --conf 0.5 --img-size 640 --source 2.mp4 --no-trace"
      ],
      "metadata": {
        "id": "Hb7oDS0xwn5e"
      },
      "execution_count": null,
      "outputs": []
    },
    {
      "cell_type": "markdown",
      "source": [
        "# 成果"
      ],
      "metadata": {
        "id": "cupZdQ7tw5F-"
      }
    },
    {
      "cell_type": "markdown",
      "source": [
        "環境設置"
      ],
      "metadata": {
        "id": "dfSjc0J_xDGJ"
      }
    },
    {
      "cell_type": "code",
      "execution_count": null,
      "metadata": {
        "id": "CAboLY_KLsac"
      },
      "outputs": [],
      "source": [
        "import os\n",
        "path='/content/drive/MyDrive/yolov7'\n",
        "os.chdir(path)\n",
        "print(os.getcwd())"
      ]
    },
    {
      "cell_type": "code",
      "execution_count": null,
      "metadata": {
        "id": "1-GAv3xsUFao"
      },
      "outputs": [],
      "source": [
        "!pip install easyocr\n",
        "!pip install imutils"
      ]
    },
    {
      "cell_type": "code",
      "execution_count": null,
      "metadata": {
        "id": "phJ8qNMxUFLF"
      },
      "outputs": [],
      "source": [
        "import cv2\n",
        "from matplotlib import pyplot as plt\n",
        "import numpy as np\n",
        "import imutils\n",
        "import easyocr"
      ]
    },
    {
      "cell_type": "markdown",
      "source": [
        "圖片車牌辨識"
      ],
      "metadata": {
        "id": "DSe8Wku2xGP7"
      }
    },
    {
      "cell_type": "code",
      "execution_count": null,
      "metadata": {
        "colab": {
          "background_save": true
        },
        "id": "YtNtb2LKsT6y"
      },
      "outputs": [],
      "source": [
        "# Number Plate Detection using Yolov7\n",
        "\n",
        "import matplotlib.pyplot as plt\n",
        "import torch\n",
        "import cv2\n",
        "import numpy as np\n",
        "import time\n",
        "from google.colab.patches import cv2_imshow\n",
        "\n",
        "from torchvision import transforms\n",
        "import sys\n",
        "sys.path.append('/content/drive/MyDrive/yolo7/utils')\n",
        "\n",
        "from utils.datasets import letterbox\n",
        "from utils.general import non_max_suppression_kpt\n",
        "from utils.plots import output_to_keypoint, plot_skeleton_kpts\n",
        "\n",
        "device = torch.device(\"cuda:0\" if torch.cuda.is_available() else \"cpu\")\n",
        "weigths = torch.load('best.pt')\n",
        "model = weigths['model']\n",
        "model = model.half().to(device)\n",
        "_ = model.eval()\n",
        "\n",
        "img_path = '/content/drive/MyDrive/yolov7/data/train/27.png'\n",
        "\n",
        "img = cv2.imread(img_path)\n",
        "\n",
        "# Get the frame width and height.\n",
        "\n",
        "h,w,c = img.shape\n",
        "frame_width = w\n",
        "frame_height = h\n",
        "\n",
        "\n",
        "orig_image = img\n",
        "image = cv2.cvtColor(orig_image, cv2.COLOR_BGR2RGB)\n",
        "image = letterbox(image, (frame_width), stride=64, auto=True)[0]\n",
        "image_ = image.copy()\n",
        "image = transforms.ToTensor()(image)\n",
        "image = torch.tensor(np.array([image.numpy()]))\n",
        "image = image.to(device)\n",
        "image = image.half()\n",
        "\n",
        "with torch.no_grad():\n",
        "    output, _ = model(image)\n",
        "\n",
        "output = non_max_suppression_kpt(output, 0.25, 0.65, nc=model.yaml['nc'], kpt_label=True)\n",
        "output = output_to_keypoint(output)\n",
        "nimg = image[0].permute(1, 2, 0) * 255\n",
        "nimg = nimg.cpu().numpy().astype(np.uint8)\n",
        "nimg = cv2.cvtColor(nimg, cv2.COLOR_RGB2BGR)\n",
        "for idx in range(output.shape[0]):\n",
        "    # plot_skeleton_kpts(nimg, output[idx, 7:].T, 3)\n",
        "\n",
        "    # Comment/Uncomment the following lines to show bounding boxes around persons.\n",
        "    xmin, ymin = (output[idx, 2]-output[idx, 4]/2), (output[idx, 3]-output[idx, 5]/2)\n",
        "    xmax, ymax = (output[idx, 2]+output[idx, 4]/2), (output[idx, 3]+output[idx, 5]/2)\n",
        "\n",
        "    plate_roi = nimg[int(ymin):int(ymax),int(xmin):int(xmax)]\n",
        "    #IMG = cv2.imread(\"Plate.jpg\")\n",
        "    #cv2_imshow(IMG)\n",
        "    #cv2_imshow(\"Plate\",plate_roi)\n",
        "    cv2_imshow(plate_roi)\n",
        "  \n",
        "    '''\n",
        "    reader = easyocr.Reader(['en'])\n",
        "    result = reader.readtext('/content/ANPRwithPython/5.png',paragraph=\"False\")\n",
        "    result[2][1]\n",
        "    '''\n",
        "    #辨識車牌中的文字\n",
        "    reader = easyocr.Reader(['en'])\n",
        "    result = reader.readtext(plate_roi,paragraph=\"False\")\n",
        "    result_text=''\n",
        "    if (len(result)>0):\n",
        "      result_text=result[0][1]\n",
        "\n",
        "    cv2.putText(nimg, result_text , (int(xmin), int(ymin)-5), cv2.FONT_HERSHEY_SIMPLEX,1, (228, 79, 215), 2)\n",
        "    cv2.rectangle(\n",
        "        nimg,\n",
        "        (int(xmin), int(ymin)),\n",
        "        (int(xmax), int(ymax)),\n",
        "        color=(228, 79, 215),\n",
        "        thickness=1,\n",
        "        lineType=cv2.LINE_AA\n",
        "    )\n",
        "\n",
        "# Convert from BGR to RGB color format.\n",
        "cv2.imwrite('result.jpg',nimg)\n",
        "cv2_imshow(nimg)"
      ]
    },
    {
      "cell_type": "markdown",
      "source": [
        "影片車牌辨識"
      ],
      "metadata": {
        "id": "ONiUuJZ8xe9A"
      }
    },
    {
      "cell_type": "code",
      "execution_count": null,
      "metadata": {
        "id": "38OS4kfGtTKJ"
      },
      "outputs": [],
      "source": [
        "# Number Plate Detection using Yolov7\n",
        "\n",
        "import matplotlib.pyplot as plt\n",
        "import torch\n",
        "import cv2\n",
        "import numpy as np\n",
        "import time\n",
        "from google.colab.patches import cv2_imshow\n",
        "\n",
        "from torchvision import transforms\n",
        "from utils.datasets import letterbox\n",
        "from utils.general import non_max_suppression_kpt\n",
        "from utils.plots import output_to_keypoint, plot_skeleton_kpts\n",
        "\n",
        "device = torch.device(\"cuda:0\" if torch.cuda.is_available() else \"cpu\")\n",
        "weigths = torch.load('best.pt')\n",
        "model = weigths['model']\n",
        "model = model.half().to(device)\n",
        "_ = model.eval()\n",
        "\n",
        "video_path = '2.mp4'\n",
        "\n",
        "cap = cv2.VideoCapture(video_path)\n",
        "if (cap.isOpened() == False):\n",
        "  print('Error while trying to read video. Please check path again')\n",
        "\n",
        "# Get the frame width and height.\n",
        "frame_width = int(cap.get(3))\n",
        "frame_height = int(cap.get(4))\n",
        "\n",
        "# Pass the first frame through `letterbox` function to get the resized image,\n",
        "# to be used for `VideoWriter` dimensions. Resize by larger side.\n",
        "vid_write_image = letterbox(cap.read()[1], (frame_width), stride=64, auto=True)[0]\n",
        "resize_height, resize_width = vid_write_image.shape[:2]\n",
        "\n",
        "# Define codec and create VideoWriter object .\n",
        "out = cv2.VideoWriter(\"result.mp4\",\n",
        "                    cv2.VideoWriter_fourcc(*'mp4v'), 30,\n",
        "                    (resize_width, resize_height))\n",
        "\n",
        "\n",
        "frame_count = 0 # To count total frames.\n",
        "total_fps = 0 # To get the final frames per second.\n",
        "\n",
        "\n",
        "while(cap.isOpened):\n",
        "  # Capture each frame of the video.\n",
        "  ret, frame = cap.read()\n",
        "  if ret:\n",
        "      orig_image = frame\n",
        "      image = cv2.cvtColor(orig_image, cv2.COLOR_BGR2RGB)\n",
        "      image = letterbox(image, (frame_width), stride=64, auto=True)[0]\n",
        "      image_ = image.copy()\n",
        "      image = transforms.ToTensor()(image)\n",
        "      image = torch.tensor(np.array([image.numpy()]))\n",
        "      image = image.to(device)\n",
        "      image = image.half()\n",
        "\n",
        "      # Get the start time.\n",
        "      start_time = time.time()\n",
        "      with torch.no_grad():\n",
        "          output, _ = model(image)\n",
        "        # Get the end time.\n",
        "      end_time = time.time()\n",
        "      # Get the fps.\n",
        "      fps = 1 / (end_time - start_time)\n",
        "      # Add fps to total fps.\n",
        "      total_fps += fps\n",
        "      # Increment frame count.\n",
        "      frame_count += 1\n",
        "\n",
        "      output = non_max_suppression_kpt(output, 0.25, 0.65, nc=model.yaml['nc'], kpt_label=True)\n",
        "      output = output_to_keypoint(output)\n",
        "      nimg = image[0].permute(1, 2, 0) * 255\n",
        "      nimg = nimg.cpu().numpy().astype(np.uint8)\n",
        "      nimg = cv2.cvtColor(nimg, cv2.COLOR_RGB2BGR)\n",
        "      for idx in range(output.shape[0]):\n",
        "          # plot_skeleton_kpts(nimg, output[idx, 7:].T, 3)\n",
        "\n",
        "          # Comment/Uncomment the following lines to show bounding boxes around persons.\n",
        "          xmin, ymin = (output[idx, 2]-output[idx, 4]/2), (output[idx, 3]-output[idx, 5]/2)\n",
        "          xmax, ymax = (output[idx, 2]+output[idx, 4]/2), (output[idx, 3]+output[idx, 5]/2)\n",
        "\n",
        "          plate_roi = nimg[int(ymin):int(ymax),int(xmin):int(xmax)]\n",
        "          cv2_imshow(plate_roi)\n",
        "          #辨識車牌中的文字\n",
        "          reader = easyocr.Reader(['en'])\n",
        "          result = reader.readtext(plate_roi,paragraph=\"False\")\n",
        "          result_text=''\n",
        "          if (len(result)>0):\n",
        "            result_text=result[0][1]\n",
        "\n",
        "          cv2.putText(nimg, result_text , (int(xmin), int(ymin)-5), cv2.FONT_HERSHEY_SIMPLEX,1, (228, 79, 215), 2)\n",
        "          cv2.rectangle(\n",
        "              nimg,\n",
        "              (int(xmin), int(ymin)),\n",
        "              (int(xmax), int(ymax)),\n",
        "              color=(228, 79, 215),\n",
        "              thickness=1,\n",
        "              lineType=cv2.LINE_AA\n",
        "          )\n",
        "\n",
        "      # Write the FPS on the current frame.\n",
        "      cv2.putText(nimg, f\"{fps:.3f} FPS\", (15, 30), cv2.FONT_HERSHEY_SIMPLEX,\n",
        "                  1, (0, 255, 0), 2)\n",
        "      # Convert from BGR to RGB color format.\n",
        "      cv2_imshow(nimg)\n",
        "      out.write(nimg)\n",
        "      print(f\"{fps:.3f} FPS\")\n",
        "      # Press `q` to exit.\n",
        "      if cv2.waitKey(1) & 0xFF == ord('q'):\n",
        "          break\n",
        "  else:\n",
        "      break\n",
        "# Release VideoCapture().\n",
        "cap.release()\n",
        "# Close all frames and video windows.\n",
        "cv2.destroyAllWindows()\n",
        "# Calculate and print the average FPS.\n",
        "avg_fps = total_fps / frame_count\n",
        "print(f\"Average FPS: {avg_fps:.3f}\")"
      ]
    }
  ],
  "metadata": {
    "accelerator": "GPU",
    "colab": {
      "provenance": [],
      "authorship_tag": "ABX9TyNO7EzJyKJQrN9mTTPccf7U",
      "include_colab_link": true
    },
    "gpuClass": "standard",
    "kernelspec": {
      "display_name": "Python 3",
      "name": "python3"
    },
    "language_info": {
      "name": "python"
    }
  },
  "nbformat": 4,
  "nbformat_minor": 0
}